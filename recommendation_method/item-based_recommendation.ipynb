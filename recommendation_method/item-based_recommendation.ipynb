{
 "cells": [
  {
   "cell_type": "code",
   "execution_count": 1,
   "metadata": {},
   "outputs": [],
   "source": [
    "import numpy as np\n",
    "import pandas as pd\n",
    "from scipy import stats\n",
    "from scipy import sparse as spsp"
   ]
  },
  {
   "cell_type": "code",
   "execution_count": 2,
   "metadata": {},
   "outputs": [
    {
     "name": "stderr",
     "output_type": "stream",
     "text": [
      "Using backend: pytorch\n"
     ]
    }
   ],
   "source": [
    "import pickle\n",
    "data = pickle.load(open('movielens_data.pickle', 'rb'))"
   ]
  },
  {
   "cell_type": "code",
   "execution_count": 3,
   "metadata": {},
   "outputs": [
    {
     "name": "stdout",
     "output_type": "stream",
     "text": [
      "#user-movie iterations: 1000205\n",
      "#users: 6040\n",
      "#movies: 3702\n"
     ]
    }
   ],
   "source": [
    "ratings = data.ratings\n",
    "user_id = np.array(ratings['user_idx'])\n",
    "movie_id = np.array(ratings['movie_idx'])\n",
    "user_movie_spm = spsp.coo_matrix((np.ones((len(user_id),)), (user_id, movie_id)))\n",
    "num_users, num_movies = user_movie_spm.shape\n",
    "print('#user-movie iterations:', len(movie_id))\n",
    "print('#users:', num_users)\n",
    "print('#movies:', num_movies)"
   ]
  },
  {
   "cell_type": "code",
   "execution_count": 4,
   "metadata": {},
   "outputs": [
    {
     "data": {
      "text/html": [
       "<div>\n",
       "<style scoped>\n",
       "    .dataframe tbody tr th:only-of-type {\n",
       "        vertical-align: middle;\n",
       "    }\n",
       "\n",
       "    .dataframe tbody tr th {\n",
       "        vertical-align: top;\n",
       "    }\n",
       "\n",
       "    .dataframe thead th {\n",
       "        text-align: right;\n",
       "    }\n",
       "</style>\n",
       "<table border=\"1\" class=\"dataframe\">\n",
       "  <thead>\n",
       "    <tr style=\"text-align: right;\">\n",
       "      <th></th>\n",
       "      <th>user_id</th>\n",
       "      <th>movie_id</th>\n",
       "      <th>rating</th>\n",
       "      <th>timestamp</th>\n",
       "      <th>movie_count</th>\n",
       "      <th>timerank</th>\n",
       "      <th>test_mask</th>\n",
       "      <th>valid_mask</th>\n",
       "      <th>user_idx</th>\n",
       "      <th>movie_idx</th>\n",
       "    </tr>\n",
       "  </thead>\n",
       "  <tbody>\n",
       "    <tr>\n",
       "      <th>0</th>\n",
       "      <td>1</td>\n",
       "      <td>1193</td>\n",
       "      <td>5</td>\n",
       "      <td>978300760</td>\n",
       "      <td>1725</td>\n",
       "      <td>11</td>\n",
       "      <td>False</td>\n",
       "      <td>False</td>\n",
       "      <td>0</td>\n",
       "      <td>1103</td>\n",
       "    </tr>\n",
       "    <tr>\n",
       "      <th>1</th>\n",
       "      <td>1</td>\n",
       "      <td>661</td>\n",
       "      <td>3</td>\n",
       "      <td>978302109</td>\n",
       "      <td>525</td>\n",
       "      <td>31</td>\n",
       "      <td>False</td>\n",
       "      <td>False</td>\n",
       "      <td>0</td>\n",
       "      <td>638</td>\n",
       "    </tr>\n",
       "    <tr>\n",
       "      <th>2</th>\n",
       "      <td>1</td>\n",
       "      <td>914</td>\n",
       "      <td>3</td>\n",
       "      <td>978301968</td>\n",
       "      <td>636</td>\n",
       "      <td>26</td>\n",
       "      <td>False</td>\n",
       "      <td>False</td>\n",
       "      <td>0</td>\n",
       "      <td>852</td>\n",
       "    </tr>\n",
       "    <tr>\n",
       "      <th>3</th>\n",
       "      <td>1</td>\n",
       "      <td>3408</td>\n",
       "      <td>4</td>\n",
       "      <td>978300275</td>\n",
       "      <td>1315</td>\n",
       "      <td>7</td>\n",
       "      <td>False</td>\n",
       "      <td>False</td>\n",
       "      <td>0</td>\n",
       "      <td>3174</td>\n",
       "    </tr>\n",
       "    <tr>\n",
       "      <th>4</th>\n",
       "      <td>1</td>\n",
       "      <td>2355</td>\n",
       "      <td>5</td>\n",
       "      <td>978824291</td>\n",
       "      <td>1703</td>\n",
       "      <td>49</td>\n",
       "      <td>False</td>\n",
       "      <td>False</td>\n",
       "      <td>0</td>\n",
       "      <td>2159</td>\n",
       "    </tr>\n",
       "    <tr>\n",
       "      <th>...</th>\n",
       "      <td>...</td>\n",
       "      <td>...</td>\n",
       "      <td>...</td>\n",
       "      <td>...</td>\n",
       "      <td>...</td>\n",
       "      <td>...</td>\n",
       "      <td>...</td>\n",
       "      <td>...</td>\n",
       "      <td>...</td>\n",
       "      <td>...</td>\n",
       "    </tr>\n",
       "    <tr>\n",
       "      <th>1000204</th>\n",
       "      <td>6040</td>\n",
       "      <td>1091</td>\n",
       "      <td>1</td>\n",
       "      <td>956716541</td>\n",
       "      <td>373</td>\n",
       "      <td>182</td>\n",
       "      <td>False</td>\n",
       "      <td>False</td>\n",
       "      <td>6039</td>\n",
       "      <td>1018</td>\n",
       "    </tr>\n",
       "    <tr>\n",
       "      <th>1000205</th>\n",
       "      <td>6040</td>\n",
       "      <td>1094</td>\n",
       "      <td>5</td>\n",
       "      <td>956704887</td>\n",
       "      <td>1229</td>\n",
       "      <td>49</td>\n",
       "      <td>False</td>\n",
       "      <td>False</td>\n",
       "      <td>6039</td>\n",
       "      <td>1021</td>\n",
       "    </tr>\n",
       "    <tr>\n",
       "      <th>1000206</th>\n",
       "      <td>6040</td>\n",
       "      <td>562</td>\n",
       "      <td>5</td>\n",
       "      <td>956704746</td>\n",
       "      <td>478</td>\n",
       "      <td>37</td>\n",
       "      <td>False</td>\n",
       "      <td>False</td>\n",
       "      <td>6039</td>\n",
       "      <td>547</td>\n",
       "    </tr>\n",
       "    <tr>\n",
       "      <th>1000207</th>\n",
       "      <td>6040</td>\n",
       "      <td>1096</td>\n",
       "      <td>4</td>\n",
       "      <td>956715648</td>\n",
       "      <td>344</td>\n",
       "      <td>109</td>\n",
       "      <td>False</td>\n",
       "      <td>False</td>\n",
       "      <td>6039</td>\n",
       "      <td>1023</td>\n",
       "    </tr>\n",
       "    <tr>\n",
       "      <th>1000208</th>\n",
       "      <td>6040</td>\n",
       "      <td>1097</td>\n",
       "      <td>4</td>\n",
       "      <td>956715569</td>\n",
       "      <td>2269</td>\n",
       "      <td>99</td>\n",
       "      <td>False</td>\n",
       "      <td>False</td>\n",
       "      <td>6039</td>\n",
       "      <td>1024</td>\n",
       "    </tr>\n",
       "  </tbody>\n",
       "</table>\n",
       "<p>1000205 rows × 10 columns</p>\n",
       "</div>"
      ],
      "text/plain": [
       "         user_id  movie_id  rating  timestamp  movie_count  timerank  \\\n",
       "0              1      1193       5  978300760         1725        11   \n",
       "1              1       661       3  978302109          525        31   \n",
       "2              1       914       3  978301968          636        26   \n",
       "3              1      3408       4  978300275         1315         7   \n",
       "4              1      2355       5  978824291         1703        49   \n",
       "...          ...       ...     ...        ...          ...       ...   \n",
       "1000204     6040      1091       1  956716541          373       182   \n",
       "1000205     6040      1094       5  956704887         1229        49   \n",
       "1000206     6040       562       5  956704746          478        37   \n",
       "1000207     6040      1096       4  956715648          344       109   \n",
       "1000208     6040      1097       4  956715569         2269        99   \n",
       "\n",
       "         test_mask  valid_mask  user_idx  movie_idx  \n",
       "0            False       False         0       1103  \n",
       "1            False       False         0        638  \n",
       "2            False       False         0        852  \n",
       "3            False       False         0       3174  \n",
       "4            False       False         0       2159  \n",
       "...            ...         ...       ...        ...  \n",
       "1000204      False       False      6039       1018  \n",
       "1000205      False       False      6039       1021  \n",
       "1000206      False       False      6039        547  \n",
       "1000207      False       False      6039       1023  \n",
       "1000208      False       False      6039       1024  \n",
       "\n",
       "[1000205 rows x 10 columns]"
      ]
     },
     "execution_count": 4,
     "metadata": {},
     "output_type": "execute_result"
    }
   ],
   "source": [
    "# coo_matrix((data, (i, j)), shape=(M, N)])\n",
    "# 아래와 같은 3개의 배열을 이용해 만든다.\n",
    "# data[:] 는 순서에 상관없이 matrix 전체를 이용\n",
    "# i[:]는 matrix의 행 색인을 이용\n",
    "# j[:]는 matrix의 열 색인을 이용\n",
    "ratings"
   ]
  },
  {
   "cell_type": "code",
   "execution_count": 5,
   "metadata": {},
   "outputs": [],
   "source": [
    "ratings_train = ratings[~(ratings['valid_mask'] | ratings['test_mask'])]\n",
    "user_latest_item_indices = (\n",
    "        ratings_train.groupby('user_id')['timestamp'].transform(pd.Series.max) ==\n",
    "        ratings_train['timestamp'])\n",
    "user_latest_item = ratings_train[user_latest_item_indices]\n",
    "user_latest_item = dict(\n",
    "        zip(user_latest_item['user_idx'].values, user_latest_item['movie_idx'].values))"
   ]
  },
  {
   "cell_type": "code",
   "execution_count": 6,
   "metadata": {},
   "outputs": [
    {
     "name": "stdout",
     "output_type": "stream",
     "text": [
      "#training size: 986669\n",
      "#valid size: 8164\n",
      "#test size: 5372\n"
     ]
    }
   ],
   "source": [
    "# The training dataset\n",
    "user_id = np.array(ratings_train['user_idx'])\n",
    "movie_id = np.array(ratings_train['movie_idx'])\n",
    "# print(len(user_id),len(movie_id))\n",
    "user_movie_spm = spsp.coo_matrix((np.ones((len(user_id),)), (user_id, movie_id)))\n",
    "assert num_users == user_movie_spm.shape[0]\n",
    "assert num_movies == user_movie_spm.shape[1]\n",
    "train_size = len(user_id)\n",
    "print('#training size:', train_size)\n",
    "\n",
    "# The validation and testing dataset\n",
    "users_valid = ratings[ratings['valid_mask']]['user_idx'].values\n",
    "movies_valid = ratings[ratings['valid_mask']]['movie_idx'].values\n",
    "users_test = ratings[ratings['test_mask']]['user_idx'].values\n",
    "movies_test = ratings[ratings['test_mask']]['movie_idx'].values\n",
    "valid_size = len(users_valid)\n",
    "test_size = len(users_test)\n",
    "print('#valid size:', valid_size)\n",
    "print('#test size:', test_size)"
   ]
  },
  {
   "cell_type": "code",
   "execution_count": 7,
   "metadata": {},
   "outputs": [],
   "source": [
    "from SLIM import SLIM, SLIMatrix\n",
    "from slim_load import read_csr\n",
    "\n",
    "def gen_slim(user_movie_spm):\n",
    "    model = SLIM()\n",
    "    params = {'algo': 'cd', 'nthreads': 2, 'l1r': 1.0, 'l2r': 1.0}\n",
    "    trainmat = SLIMatrix(user_movie_spm.tocsr())\n",
    "    print(trainmat)\n",
    "    model.train(params, trainmat)\n",
    "    model.save_model(modelfname='slim_model.csr', mapfname='slim_map.csr')\n",
    "\n",
    "    # Load the SLIM similarity matrix into DGL. We store the vertex similarity as edge data on DGL.\n",
    "    movie_spm = read_csr('slim_model.csr')\n",
    "    print('#edges:', movie_spm.nnz)\n",
    "    print('most similar:', np.max(movie_spm.data))\n",
    "    print('most unsimilar:', np.min(movie_spm.data))\n",
    "\n",
    "    return movie_spm"
   ]
  },
  {
   "cell_type": "code",
   "execution_count": 10,
   "metadata": {},
   "outputs": [
    {
     "name": "stdout",
     "output_type": "stream",
     "text": [
      "<SLIM.core.SLIMatrix object at 0x7f4f184be6d8>\n",
      "Learning takes 31.780 secs.\n",
      "#edges: 305219\n",
      "most similar: 0.679996\n",
      "most unsimilar: 0.0\n"
     ]
    }
   ],
   "source": [
    "item_matrix_slim = gen_slim(user_movie_spm)"
   ]
  },
  {
   "cell_type": "code",
   "execution_count": 12,
   "metadata": {},
   "outputs": [
    {
     "data": {
      "text/plain": [
       "<3702x3702 sparse matrix of type '<class 'numpy.float32'>'\n",
       "\twith 305219 stored elements in COOrdinate format>"
      ]
     },
     "execution_count": 12,
     "metadata": {},
     "output_type": "execute_result"
    }
   ],
   "source": [
    "item_matrix_slim"
   ]
  },
  {
   "cell_type": "code",
   "execution_count": 13,
   "metadata": {},
   "outputs": [],
   "source": [
    "downsample_factor = 1e-6\n",
    "\n",
    "def gen_cooccur(user_movie_spm):\n",
    "    user_id = user_movie_spm.row\n",
    "    movie_id = user_movie_spm.col\n",
    "    spm_t = user_movie_spm.transpose()\n",
    "    \n",
    "    movie_deg = spm_t.dot(np.ones((num_users,)))\n",
    "    movie_ratio = movie_deg / np.sum(movie_deg)\n",
    "    # 1e-6 is a hyperparameter for this dataset.\n",
    "    movie_sample_prob = 1 - np.maximum(1 - np.sqrt(downsample_factor / movie_ratio), 0)\n",
    "    sample_prob = movie_sample_prob[movie_id]\n",
    "    sample = np.random.uniform(size=(len(movie_id),))\n",
    "    print(sample_prob)\n",
    "    print(sample)\n",
    "    \n",
    "    user_id = user_id[sample_prob > sample]\n",
    "    movie_id = movie_id[sample_prob > sample]\n",
    "    print('#samples:', len(user_id))\n",
    "    user_movie_spm = spsp.coo_matrix((np.ones((len(user_id),)), (user_id, movie_id)))\n",
    "    movie_deg = spm_t.dot(np.ones((num_users,)))\n",
    "    print(np.sum(movie_deg == 0))\n",
    "    \n",
    "    movie_spm = np.dot(user_movie_spm.transpose(), user_movie_spm)\n",
    "    #dense_movie = np.sort(movie_spm.todense())\n",
    "    #topk_movie = dense_movie[:,-50]\n",
    "    #movie_spm1 = movie_spm >= topk_movie\n",
    "    print('most similar:', np.max(movie_spm.data))\n",
    "    print('most unsimilar:', np.min(movie_spm.data))\n",
    "    \n",
    "    return movie_spm"
   ]
  },
  {
   "cell_type": "code",
   "execution_count": 14,
   "metadata": {},
   "outputs": [],
   "source": [
    "from sklearn.metrics.pairwise import cosine_similarity\n",
    "topk = 20\n",
    "def gen_cosine(user_movie_spm):\n",
    "    movie_spm = cosine_similarity(user_movie_spm.transpose(),dense_output=False)\n",
    "\n",
    "    dense_movie = np.sort(movie_spm.todense())\n",
    "    topk_movie = dense_movie[:,-topk]\n",
    "    topk_movie_spm = movie_spm > topk_movie\n",
    "    topk_movie_spm = movie_spm.multiply(topk_movie_spm)\n",
    "\n",
    "    return topk_movie_spm"
   ]
  },
  {
   "cell_type": "code",
   "execution_count": 15,
   "metadata": {},
   "outputs": [
    {
     "name": "stdout",
     "output_type": "stream",
     "text": [
      "[0.02624909 0.04368582 0.0395745  ... 0.04548064 0.05386991 0.02178505]\n",
      "[0.96788039 0.93071604 0.44196522 ... 0.22323823 0.1565952  0.08350952]\n",
      "986669 986669\n",
      "#samples: 48238\n",
      "0\n",
      "most similar: 68.0\n",
      "most unsimilar: 1.0\n"
     ]
    }
   ],
   "source": [
    "item_matrix_coocurrence = gen_cooccur(user_movie_spm)"
   ]
  },
  {
   "cell_type": "code",
   "execution_count": 16,
   "metadata": {},
   "outputs": [],
   "source": [
    "item_matrix_cosine = gen_cosine(user_movie_spm)"
   ]
  },
  {
   "cell_type": "code",
   "execution_count": 17,
   "metadata": {},
   "outputs": [
    {
     "data": {
      "text/plain": [
       "<3702x3702 sparse matrix of type '<class 'numpy.float64'>'\n",
       "\twith 11300724 stored elements in COOrdinate format>"
      ]
     },
     "execution_count": 17,
     "metadata": {},
     "output_type": "execute_result"
    }
   ],
   "source": [
    "item_matrix_cosine"
   ]
  },
  {
   "cell_type": "code",
   "execution_count": null,
   "metadata": {},
   "outputs": [],
   "source": []
  }
 ],
 "metadata": {
  "kernelspec": {
   "display_name": "Python 3",
   "language": "python",
   "name": "python3"
  },
  "language_info": {
   "codemirror_mode": {
    "name": "ipython",
    "version": 3
   },
   "file_extension": ".py",
   "mimetype": "text/x-python",
   "name": "python",
   "nbconvert_exporter": "python",
   "pygments_lexer": "ipython3",
   "version": "3.6.9"
  }
 },
 "nbformat": 4,
 "nbformat_minor": 2
}
